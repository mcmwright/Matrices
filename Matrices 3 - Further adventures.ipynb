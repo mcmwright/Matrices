{
 "cells": [
  {
   "cell_type": "markdown",
   "metadata": {},
   "source": [
    "# Further adventures of the dog in the plane\n",
    "M C M Wright, ISVR, University of Southampton"
   ]
  },
  {
   "cell_type": "code",
   "execution_count": null,
   "metadata": {
    "collapsed": false
   },
   "outputs": [],
   "source": [
    "%pylab inline"
   ]
  },
  {
   "cell_type": "markdown",
   "metadata": {},
   "source": [
    "## Notebook overview\n",
    "In this notebook we'll explore the associativity and commutativity of matrix multiplication, ably assisted by the dog. We'll then introduce the **determinant**  and **rank** of a matrix."
   ]
  },
  {
   "cell_type": "markdown",
   "metadata": {},
   "source": [
    "## Multiple transformations\n",
    "\n",
    "Here's  a slightly modified version of our `dog()` function."
   ]
  },
  {
   "cell_type": "code",
   "execution_count": null,
   "metadata": {
    "collapsed": true
   },
   "outputs": [],
   "source": [
    "def dog(M, a_max=3, mycolour='m'):\n",
    "    x_axes = [-a_max, a_max, nan, 0, 0]\n",
    "    y_axes = [0, 0, nan, -a_max, a_max]\n",
    "    plot(x_axes, y_axes, 'k-', linewidth=1)\n",
    "\n",
    "    X = matrix([[0, 2, 2, 1, 0, 0], [0, 0, 2, 1, 1, 0]])\n",
    "\n",
    "    MX = M*X\n",
    "    plot(X[0, :].T, X[1,: ].T, 'k-', linewidth=3)\n",
    "    plot(MX[0, :].T, MX[1,: ].T, '-', linewidth=3, color=mycolour)\n",
    "\n",
    "    axis('equal')\n",
    "    axis('off')"
   ]
  },
  {
   "cell_type": "markdown",
   "metadata": {},
   "source": [
    "Because the colour of the transformed dog can be specified in an optional argument we can show several transformations at once and distinguish between them - we'll demonstrate with $\\mathbf{H}$, the shear and $\\mathbf{F}$, the reflection, that we defined in the previous notebook. "
   ]
  },
  {
   "cell_type": "code",
   "execution_count": null,
   "metadata": {
    "collapsed": false
   },
   "outputs": [],
   "source": [
    "H = matrix([[1, 0.5], [0, 1]])\n",
    "F = matrix([[0, -1], [-1, 0]])\n",
    "\n",
    "dog(H, mycolour='orange')\n",
    "dog(F, mycolour='brown')"
   ]
  },
  {
   "cell_type": "markdown",
   "metadata": {},
   "source": [
    "## Composition of transformations\n",
    "\n",
    "What happens if we subject the dog to one transformation followed by another - and can we investigate this without rewriting `dog()`?\n",
    "\n",
    "The co-ordinates of the sheared dog are given by $\\mathbf{HX}$, so the co-ordinates of the dog that's been sheared and then reflected will be $\\mathbf{F}(\\mathbf{HX})$. If matrix multiplication is associative, like ordinary multiplication then $(\\mathbf{FH})\\mathbf{X}$ will give the same result, which we could examine by calling `dog(F*H)`.\n",
    "\n",
    "#### Worked example\n",
    "\n",
    "Check that $\\mathbf{F}(\\mathbf{HX})$ is the same as $(\\mathbf{FH})\\mathbf{X}$.\n",
    "\n",
    "#### Solution\n",
    "\n",
    "We just need to assign $\\mathbf{X}$ (the value in the function variable isn't visible outside the function); we've already assigned $\\mathbf{H}$ and $\\mathbf{F}$."
   ]
  },
  {
   "cell_type": "code",
   "execution_count": null,
   "metadata": {
    "collapsed": false
   },
   "outputs": [],
   "source": [
    "X = matrix([[0, 2, 2, 1, 0, 0], [0, 0, 2, 1, 1, 0]]) \n",
    "F*(H*X) == (F*H)*X"
   ]
  },
  {
   "cell_type": "markdown",
   "metadata": {},
   "source": [
    "If you're comparing two matrices and just want to know whether they''re equal or not rather than knowing about individual elements you can do this:"
   ]
  },
  {
   "cell_type": "code",
   "execution_count": null,
   "metadata": {
    "collapsed": false
   },
   "outputs": [],
   "source": [
    "all(F*(H*X) == (F*H)*X)"
   ]
  },
  {
   "cell_type": "markdown",
   "metadata": {},
   "source": [
    "#### Exercise \n",
    "\n",
    "The previous example showed that it worked for one particular case; show that it works for any three $2\\times 2$ matrices by calculating\n",
    "\n",
    "$$\n",
    "\\left[\n",
    "\\begin{pmatrix} a & b \\\\ c & d \\end{pmatrix}\n",
    "\\begin{pmatrix} e & f \\\\ g & h \\end{pmatrix}\n",
    "\\right]\n",
    "\\begin{pmatrix} i & j \\\\ k & l \\end{pmatrix}\n",
    "\\quad\\text{and}\\quad\n",
    "\\begin{pmatrix} a & b \\\\ c & d \\end{pmatrix}\n",
    "\\left[\n",
    "\\begin{pmatrix} e & f \\\\ g & h \\end{pmatrix}\n",
    "\\begin{pmatrix} i & j \\\\ k & l \\end{pmatrix}\n",
    "\\right]\n",
    "$$"
   ]
  },
  {
   "cell_type": "markdown",
   "metadata": {},
   "source": [
    "In fact, matrix multiplication is associative for all matrices that can be multiplied, whatever their size and shape, but to prove that we'd need a general formula for the product of two matrices with arbitrary dimensions which we haven't yet obtained.\n",
    "\n",
    "As stated earlier, we can  now use `dog()` to show what shearing and then reflecting the dog looks like."
   ]
  },
  {
   "cell_type": "code",
   "execution_count": null,
   "metadata": {
    "collapsed": false
   },
   "outputs": [],
   "source": [
    "dog(F*H)"
   ]
  },
  {
   "cell_type": "markdown",
   "metadata": {},
   "source": [
    "What if we do the transformations in the other order, first refelcting then shearing?"
   ]
  },
  {
   "cell_type": "code",
   "execution_count": null,
   "metadata": {
    "collapsed": false
   },
   "outputs": [],
   "source": [
    "dog(H*F)"
   ]
  },
  {
   "cell_type": "markdown",
   "metadata": {},
   "source": [
    "The result is *not* the same, and we can highlight this by plotting both together."
   ]
  },
  {
   "cell_type": "code",
   "execution_count": null,
   "metadata": {
    "collapsed": false
   },
   "outputs": [],
   "source": [
    "dog(F*H, mycolour='red')\n",
    "dog(H*F, mycolour='blue')"
   ]
  },
  {
   "cell_type": "markdown",
   "metadata": {},
   "source": [
    "This result demonstrates that matrix multiplication is **not commutative**, unlike ordinary scalar multiplication.\n",
    "\n",
    "What happens when we reflect a figure and then reflect it again (in the same line)? We ought to get our original figure back. If that's true then $\\mathbf{F}^2$\n",
    "ought to give a matrix that transforms a figure into itself. We can test this without needing to draw any pictures."
   ]
  },
  {
   "cell_type": "code",
   "execution_count": null,
   "metadata": {
    "collapsed": false
   },
   "outputs": [],
   "source": [
    "F**2"
   ]
  },
  {
   "cell_type": "markdown",
   "metadata": {},
   "source": [
    "Does that matrix transform every point into itself? Let's try:\n",
    "\n",
    "$$\n",
    "\\begin{pmatrix} 1 & 0 \\\\ 0 & 1 \\end{pmatrix}\\begin{pmatrix}x\\\\ y\\end{pmatrix} = \\begin{pmatrix}x\\\\ y\\end{pmatrix}\n",
    "$$\n",
    "\n",
    "This matrix is called the *identity* matrix and is given the symbol $\\mathbf{I}$. An equivalent version exists for every size of square matrix, with $1$s on the *main diagonal*. It's the first example we've met of a *diagonal* matrix and, like $\\mathbf{F}$ it is *symmetric*. It satisfies $\\mathbf{IA} = \\mathbf{AI} = \\mathbf{A}$ for any square matrix $\\mathbf{A}$."
   ]
  },
  {
   "cell_type": "markdown",
   "metadata": {},
   "source": [
    "# Area\n",
    "\n",
    "Both $\\mathbf{H}$ and $\\mathbf{F}$ preserve the area of the dog, even if $\\mathbf{H}$ doesn't preserve its shape. Here are some matrices that don't preserve the area, they double it:\n",
    "\n",
    "$$\n",
    "\\begin{pmatrix} 2 & 0 \\\\ 0 & 1 \\end{pmatrix},\\quad\\begin{pmatrix} \\sqrt{2} & 0 \\\\ 0 & \\sqrt{2} \\end{pmatrix},\\quad\n",
    "\\begin{pmatrix} 1 & 0 \\\\ 0 & 2 \\end{pmatrix},\n",
    "$$\n",
    "\n",
    "and here's what they do to the dog:"
   ]
  },
  {
   "cell_type": "code",
   "execution_count": null,
   "metadata": {
    "collapsed": false
   },
   "outputs": [],
   "source": [
    "dog(matrix([[2, 0], [0, 1]]), a_max=4)\n",
    "dog(matrix([[sqrt(2), 0], [0, sqrt(2)]]), mycolour='cyan', a_max=4)\n",
    "dog(matrix([[1, 0], [0, 2]]), mycolour='orange', a_max=4)"
   ]
  },
  {
   "cell_type": "markdown",
   "metadata": {},
   "source": [
    "Because all these matrices are diagonal it's easy to work out what factor they multiply the area by - it's just the product of their diagonals. But if each of these was multiplied by an area-preserving non-diagonal matrix such as $\\mathbf{H}$ it would be much less obvious.\n",
    "\n",
    "To relate the 'area factor' to the elements let's work out the area of a unit square with its bottom left corner at the origin, after its points have been transformed by an arbitrary $2\\times 2$ matrix. The result is:\n",
    "\n",
    "$$\n",
    "\\begin{pmatrix} a & b \\\\ c & d \\end{pmatrix}\\begin{pmatrix} 0 & 1 & 1 & 0 \\\\ 0 & 0 & 1 & 1\\end{pmatrix} =\n",
    "\\begin{pmatrix} 0 & a & a+b & b\\\\ 0 & c & c+d & d\\end{pmatrix},\n",
    "$$\n",
    "\n",
    "which we can sketch for positive values of $a$, $b$, $c$, $d$ with $b > a$ and $d> c$.\n",
    "\n",
    "\n",
    "<img src=\"./images/det.png\" alt=\"Transformed unit square\" style=\"width: 500px;\"/>\n",
    "\n",
    "The area of the new figure is the area of the rectangle that encloses it minus the area of two identical rectangles and two pairs of identical triangles, or\n",
    "\n",
    "$$\n",
    "(a+b)(c+d)-\\left(2bc +  ac + bd\\right) = ad-bc.\n",
    "$$\n",
    "\n",
    "Further sketching will show that this formula is unchanged (apart from possibly its sign) by the the sign or relative magnitude of the elements. This quantity is the *determinant* of  the matrix, written $\\det\\mathbf{A}$. The determinant is also sometimes written like this:\n",
    "\n",
    "$$\n",
    "\\begin{vmatrix} a & b \\\\ c & d \\end{vmatrix}.\n",
    "$$\n",
    "\n",
    "A quick calculation (replace 1 by an arbitrary constant and add an arbitrary vector to all the points) shows that we'll get the same answer for any square of any size anywhere in the plane.\n",
    "\n",
    "We can calculate determinants (for any size of square matrix) with NumPy's `det()` function."
   ]
  },
  {
   "cell_type": "code",
   "execution_count": null,
   "metadata": {
    "collapsed": false
   },
   "outputs": [],
   "source": [
    "det(H)"
   ]
  },
  {
   "cell_type": "code",
   "execution_count": null,
   "metadata": {
    "collapsed": false
   },
   "outputs": [],
   "source": [
    "det(F)"
   ]
  },
  {
   "cell_type": "markdown",
   "metadata": {},
   "source": [
    "Any transformation that produces a mirror image of the original will have a negative determinant. Of course, if the transformation involves enough shearing and stretching it might be hard to recognise a mirror image, so we should be a little more precise and say that applying a matrix with a negative determinant to an area-enclosing figure produces an image whose perimeter points go around an interior point the opposite of the way their originals go around an interior point of the original figure."
   ]
  },
  {
   "cell_type": "markdown",
   "metadata": {},
   "source": [
    "## Singularity\n",
    "\n",
    "Let's take the determinant of one more matrix:\n",
    "\n",
    "$$\n",
    "\\mathbf{S} = \\begin{pmatrix} 1 & -1 \\\\ -1 & 1 \\end{pmatrix}.\n",
    "$$\n",
    "\n",
    "You should be able to work out the determinant but we'll get NumPy to confirm it."
   ]
  },
  {
   "cell_type": "code",
   "execution_count": null,
   "metadata": {
    "collapsed": false
   },
   "outputs": [],
   "source": [
    "S = matrix([[1, -1], [-1, 1]])\n",
    "det(S)"
   ]
  },
  {
   "cell_type": "markdown",
   "metadata": {},
   "source": [
    "Now $\\det\\mathbf{S} = 0$, which suggests the image should have no area. Let's plot it and see if this is true."
   ]
  },
  {
   "cell_type": "code",
   "execution_count": null,
   "metadata": {
    "collapsed": false
   },
   "outputs": [],
   "source": [
    "dog(S)"
   ]
  },
  {
   "cell_type": "markdown",
   "metadata": {},
   "source": [
    "Sure enough it reduces our dog to a line. We'll see in the next notebook whether this injury is fatal.\n",
    "\n",
    "This might seem bad, but worse things can happen. There's one, and only one, matrix that can transform any figure to a single point. Since the origin never moves that point must be it, and the matrix in question must be\n",
    "\n",
    "$$\n",
    "\\begin{pmatrix} 0 & 0 \\\\ 0 & 0 \\end{pmatrix},\n",
    "$$\n",
    "\n",
    "sometimes written as $\\mathbf{0}$ (that's a bold zero). Any matrix that has zero determinant is called *singular*, and produces images with fewer dimensions than the original, but there is a sense in which $\\mathbf{0}$ is more singular than $\\mathbf{S}$, and this is captured by saying that $\\mathbf{S}$ has *rank* $1$, while $\\mathbf{0}$ has rank $0$. We could have spotted in advance that $\\mathbf{S}$ was singular if we'd noticed that its rows (and indeed its columns) were scalar multiples of each other. An alternative but equivalent definition of the rank of matrix is the largest number of rows (or columns) it has that are mutually linearly independent.\n",
    "\n",
    "Working out the rank of a matrix is an ideal job for a computer - numpy has a function to do it in its `linalg` (linear algebra) library."
   ]
  },
  {
   "cell_type": "code",
   "execution_count": null,
   "metadata": {
    "collapsed": false
   },
   "outputs": [],
   "source": [
    "numpy.linalg.matrix_rank(H)"
   ]
  },
  {
   "cell_type": "code",
   "execution_count": null,
   "metadata": {
    "collapsed": false
   },
   "outputs": [],
   "source": [
    "numpy.linalg.matrix_rank(S)"
   ]
  },
  {
   "cell_type": "code",
   "execution_count": null,
   "metadata": {
    "collapsed": false
   },
   "outputs": [],
   "source": [
    "numpy.linalg.matrix_rank(matrix(zeros((2, 2))))"
   ]
  },
  {
   "cell_type": "markdown",
   "metadata": {},
   "source": [
    "As long as the matrix is non-singular, however, the results above show that it induces a *one-to-one* mapping; it cannot map two different points to the same point. Furthermore, since the origin is always mapped to itself, any matrix that transforms a point other than the origin to the origin must be singular. This fact will come in useful a bit later.\n"
   ]
  },
  {
   "cell_type": "markdown",
   "metadata": {
    "collapsed": true
   },
   "source": [
    "## Summary\n",
    "[Edit this cell to summarize everything you've learnt from this notebook]"
   ]
  },
  {
   "cell_type": "code",
   "execution_count": null,
   "metadata": {
    "collapsed": true
   },
   "outputs": [],
   "source": []
  }
 ],
 "metadata": {
  "anaconda-cloud": {},
  "kernelspec": {
   "display_name": "Python [Root]",
   "language": "python",
   "name": "Python [Root]"
  },
  "language_info": {
   "codemirror_mode": {
    "name": "ipython",
    "version": 3
   },
   "file_extension": ".py",
   "mimetype": "text/x-python",
   "name": "python",
   "nbconvert_exporter": "python",
   "pygments_lexer": "ipython3",
   "version": "3.5.2"
  }
 },
 "nbformat": 4,
 "nbformat_minor": 0
}
