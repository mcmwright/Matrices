{
 "cells": [
  {
   "cell_type": "markdown",
   "metadata": {},
   "source": [
    "# Matrices - Multiplying vectors\n",
    "M C M Wright, ISVR, University of Southampton"
   ]
  },
  {
   "cell_type": "code",
   "execution_count": null,
   "metadata": {
    "collapsed": false
   },
   "outputs": [],
   "source": [
    "%pylab"
   ]
  },
  {
   "cell_type": "markdown",
   "metadata": {},
   "source": [
    "## Series overview\n",
    "In this series of notebooks we're going to explore the properties of $2\\times 2$ matrices by observing how they transform points in the plane, and collections of such points. Wherever possible we'll try to relate mathematical results to geometrical behaviour that we can plot and observe. In due course we'll generalise what we learn to higher-dimensional systems and non-square matrices but we'll begin with the 2D case."
   ]
  },
  {
   "cell_type": "markdown",
   "metadata": {},
   "source": [
    "## Notebook overview\n",
    "In this notebook we'll learn\n",
    "1. How to multiply 2-element vectors by $2\\times 2$ matrices.\n",
    "2. How to do the same thing with NumPy array objects.\n",
    "3. How to do it with NumPy matrix objects."
   ]
  },
  {
   "cell_type": "markdown",
   "metadata": {},
   "source": [
    "## The objects \n",
    "\n",
    "Points in the plane can be represented by vectors with two elements, such as the point $x=2$, $x=3$, which we will write in this column form \n",
    "\n",
    "$$\n",
    "\\mathbf{x} =\n",
    "\\begin{pmatrix} x \\\\ y \\end{pmatrix} =\n",
    "\\begin{pmatrix} 2 \\\\ 3 \\end{pmatrix}. \n",
    "$$\n",
    "\n",
    "We use bold, upright lowercase letters to symbolize vectors.\n",
    "\n",
    "A collection of numbers like this\n",
    "\n",
    "$$\n",
    "\\mathbf{A} = \\begin{pmatrix} 1 & 2 \\\\ -1 & 7.2 \\end{pmatrix}\n",
    "$$\n",
    "\n",
    "is called a *matrix* (plural matrices), symbolized by a bold, upright, uppercase letter. This is a $2\\times 2$ matrix because it has two rows and two columns (in that order). We can multiply 2-element vectors by $2\\times 2$ matrices to get a new 2-element vector according to the following rule\n",
    "\n",
    "$$\n",
    "\\begin{pmatrix} a & b \\\\ c & d \\end{pmatrix}\n",
    "\\begin{pmatrix} x \\\\ y \\end{pmatrix} =\n",
    "\\begin{pmatrix} ax+by \\\\ cx+dy \\end{pmatrix}.\n",
    "$$\n",
    "\n",
    "Each element of the result is a *scalar product* of the vector with a row of the matrix.\n",
    "\n",
    "#### Worked example\n",
    "What is\n",
    "\n",
    "$$\n",
    "\\begin{pmatrix} 1 & 2 \\\\ -1 & 7.2 \\end{pmatrix}\n",
    "\\begin{pmatrix} 2 \\\\ 3 \\end{pmatrix}. \n",
    "$$\n",
    "\n",
    "#### Solution\n",
    "Following the rule given above gives\n",
    "\n",
    "$$\n",
    "\\begin{pmatrix} 1\\times 2 + 2\\times 3 \\\\ -1\\times 2 + 7.2\\times 3 \\end{pmatrix} =\n",
    "\\begin{pmatrix} 2 + 6 \\\\ -2 + 21.6 \\end{pmatrix} =\n",
    "\\begin{pmatrix} 8 \\\\ 19.6 \\end{pmatrix}\n",
    "$$\n",
    "\n",
    "#### Exercises\n",
    "What is\n",
    "1. $\n",
    "\\begin{pmatrix} -1 & 2.4 \\\\ 3.1 & -2.2 \\end{pmatrix}\n",
    "\\begin{pmatrix} 4.4 \\\\ -9.1 \\end{pmatrix}?\n",
    "$\n",
    "\n",
    "2. $\n",
    "\\begin{pmatrix} 0 & 1 \\\\ 1 & 0 \\end{pmatrix}\n",
    "\\begin{pmatrix} x \\\\ y \\end{pmatrix}?\n",
    "$"
   ]
  },
  {
   "cell_type": "markdown",
   "metadata": {},
   "source": [
    "## Matrices and vectors with NumPy arrays\n",
    "\n",
    "We can use a NumPy array, constructed from a Python list, to represent a vector like this:"
   ]
  },
  {
   "cell_type": "code",
   "execution_count": null,
   "metadata": {
    "collapsed": true
   },
   "outputs": [],
   "source": [
    "x_vec = array([2, 3])"
   ]
  },
  {
   "cell_type": "markdown",
   "metadata": {},
   "source": [
    "called `x_vec` to remind us that it represents $\\mathbf{x}$ not $x$.  We can create a two-dimensional array from a nested list (list of lists) and use it to represent a matrix:"
   ]
  },
  {
   "cell_type": "code",
   "execution_count": null,
   "metadata": {
    "collapsed": true
   },
   "outputs": [],
   "source": [
    "A = array([[1, 2], [-1, 7.2]])"
   ]
  },
  {
   "cell_type": "markdown",
   "metadata": {},
   "source": [
    "What happens if we try to multiply them?"
   ]
  },
  {
   "cell_type": "code",
   "execution_count": null,
   "metadata": {
    "collapsed": false
   },
   "outputs": [],
   "source": [
    "A*x_vec"
   ]
  },
  {
   "cell_type": "markdown",
   "metadata": {},
   "source": [
    "It gives an answer but not the one we were hoping for -  what happened? \n",
    "\n",
    "NumPy doesn't follow the rules of matrix multiplication when using `*` between two arrays, instead it multiplies element-by-element, the same as when it adds or subtracts.  Here the arrays don't even have the same number of dimensions, let alone the same number of elements, so why did it produce an answer rather than an error? The reason is that in cases like this NumPy automatically *broadcasts* the lower-dimensional array by filling an array of the required size with copies of it. So in the cell above, NumPy multiplied the corresponding elements of the following arrays (written with brackets instead of parentheses to show that they're not being treated as matrices)\n",
    "\n",
    "$$\n",
    "\\begin{bmatrix} 1 & 2 \\\\ -1 & 7.2 \\end{bmatrix} \\quad\\text{and}\\quad\n",
    "\\begin{bmatrix} 2 & 3 \\\\ 2 & 3 \\end{bmatrix},\n",
    "$$\n",
    "\n",
    "which can be useful in other circumstances but isn't what we want here.\n",
    "\n",
    "We *can* get the result we want if we use the `dot()` function like this:"
   ]
  },
  {
   "cell_type": "code",
   "execution_count": null,
   "metadata": {
    "collapsed": false
   },
   "outputs": [],
   "source": [
    "dot(A, x_vec)"
   ]
  },
  {
   "cell_type": "markdown",
   "metadata": {},
   "source": [
    "We can also use `dot()` as a method of an array object like this,"
   ]
  },
  {
   "cell_type": "code",
   "execution_count": null,
   "metadata": {
    "collapsed": false
   },
   "outputs": [],
   "source": [
    "A.dot(x_vec)"
   ]
  },
  {
   "cell_type": "markdown",
   "metadata": {},
   "source": [
    "...and as of NumPy 1.10.0 there's also a function `matmul()`"
   ]
  },
  {
   "cell_type": "code",
   "execution_count": null,
   "metadata": {
    "collapsed": false
   },
   "outputs": [],
   "source": [
    "matmul(A, x_vec)"
   ]
  },
  {
   "cell_type": "markdown",
   "metadata": {},
   "source": [
    "which can't be used as a method like `dot()` but which does have a corresponding 'infix' operator `@`."
   ]
  },
  {
   "cell_type": "code",
   "execution_count": null,
   "metadata": {
    "collapsed": false
   },
   "outputs": [],
   "source": [
    "A @ x_vec"
   ]
  },
  {
   "cell_type": "markdown",
   "metadata": {},
   "source": [
    "For this series of notebooks we're going to use a different approach - we're going to use NumPy objects that behave like matrices, which we can construct similarly to arrays. We'll give the variables `_m` suffixes for now to remind us that they're different types of object. NumPy matrix objects are all two-dimensional so vectors can be represented by either $1\\times n$ matrices (with a single row) or $n\\times 1$ (with a single column). To make the multiplication work the way we want we'll use single columns."
   ]
  },
  {
   "cell_type": "code",
   "execution_count": null,
   "metadata": {
    "collapsed": false
   },
   "outputs": [],
   "source": [
    "A_m = matrix([[1, 2], [-1, 7.2]])\n",
    "x_vec_m = matrix([[2], [3]])\n",
    "A_m*x_vec_m"
   ]
  },
  {
   "cell_type": "markdown",
   "metadata": {},
   "source": [
    "We got the right answer and it was displayed as a column.\n",
    "\n",
    "We'll use matrix objects in this series of notebooks for the same reason we use the `pylab` magic: because it makes the code look more like the maths, because it's better that $\\mathbf{ABCx}$ be coded with `A*B*C*x` rather than `A.dot(B).dot(C).dot(x)` or `matmul(A, matmul(B, matmul(C, x)))` or `A@B@C@x` while you're learning about the maths. But you should be aware that arrays are very widely used to represent matrices in NumPy code and you should be able to write and read such code too if necessary.\n",
    "\n",
    "One more thing to be aware of: it's a convention of the mathematal notation that multiplying a matrix by a scalar multiplies all the elements of the matrix by that scalar. This rule is followed by `*` for matrix objects and `dot()` for array objects but not by `matmul()` or `@`. So you can write `2*A_m` or `A.dot(2)` but not `2.dot(A)` (because 2 isn't an array object) or `matmul(A,2)` or `matmul(2,A)` or `2@A`.\n",
    "\n",
    "#### Exercises\n",
    "1. Check your answer to the first exercise above using array objects and `dot()`.\n",
    "2. Check it again using matrix objects and `*`."
   ]
  },
  {
   "cell_type": "code",
   "execution_count": null,
   "metadata": {
    "collapsed": true
   },
   "outputs": [],
   "source": []
  }
 ],
 "metadata": {
  "anaconda-cloud": {},
  "kernelspec": {
   "display_name": "Python [Root]",
   "language": "python",
   "name": "Python [Root]"
  },
  "language_info": {
   "codemirror_mode": {
    "name": "ipython",
    "version": 3
   },
   "file_extension": ".py",
   "mimetype": "text/x-python",
   "name": "python",
   "nbconvert_exporter": "python",
   "pygments_lexer": "ipython3",
   "version": "3.5.2"
  }
 },
 "nbformat": 4,
 "nbformat_minor": 0
}
