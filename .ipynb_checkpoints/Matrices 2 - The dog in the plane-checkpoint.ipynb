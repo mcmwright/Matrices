{
 "cells": [
  {
   "cell_type": "markdown",
   "metadata": {},
   "source": [
    "# The dog in the plane\n",
    "M C M Wright, ISVR, University of Southampton"
   ]
  },
  {
   "cell_type": "code",
   "execution_count": 1,
   "metadata": {
    "collapsed": false
   },
   "outputs": [
    {
     "name": "stdout",
     "output_type": "stream",
     "text": [
      "Populating the interactive namespace from numpy and matplotlib\n"
     ]
    }
   ],
   "source": [
    "%pylab inline"
   ]
  },
  {
   "cell_type": "markdown",
   "metadata": {},
   "source": [
    "## Notebook overview\n",
    "In this notebook we're going to interpret $2\\times 1$ vectors as the co-ordinates of points on the Cartesian plane, that is, an ordinary set of $x$--$y$ axes. We're going to look at the effect of multiplying such vectors by $2\\times 2$ matrices. Looking at one point at a time won't tell us much so we'll use a few points to draw a picture and see what happens to it when all its points are *transformed* by the matrix. In this context the vectors are nouns and the matrices are verbs. We'll sometimes refer to the result of a transformation as the *image* of the original figure under the transformation *induced* by the matrix.\n"
   ]
  },
  {
   "cell_type": "markdown",
   "metadata": {},
   "source": [
    "## The dog\n",
    "\n",
    "\n",
    "Here are the points that make up the figure, which looks a bit like a dog (to me):\n",
    "\n",
    "$$\n",
    "\\mathbf{x}_1 = \\begin{pmatrix} 0 \\\\ 0 \\end{pmatrix},\\;\n",
    "\\mathbf{x}_2 = \\begin{pmatrix} 2 \\\\ 0 \\end{pmatrix},\\;\n",
    "\\mathbf{x}_3 = \\begin{pmatrix} 2 \\\\ 1 \\end{pmatrix},\\;\n",
    "\\mathbf{x}_4 = \\begin{pmatrix} 2 \\\\ 2 \\end{pmatrix},\\;\n",
    "\\mathbf{x}_5 = \\begin{pmatrix} 1 \\\\ 1 \\end{pmatrix},\\;\n",
    "\\mathbf{x}_6 = \\begin{pmatrix} 0 \\\\ 1 \\end{pmatrix}.\n",
    "$$\n",
    "\n",
    "We can plot the figure in Python. Rather than use the standard axes we'll explicitly plot the $x$ and $y$ axes, and put spots at the location of the points."
   ]
  },
  {
   "cell_type": "code",
   "execution_count": 28,
   "metadata": {
    "collapsed": false
   },
   "outputs": [
    {
     "data": {
      "text/plain": [
       "(-3.0, 3.0, -3.0, 3.0)"
      ]
     },
     "execution_count": 28,
     "metadata": {},
     "output_type": "execute_result"
    },
    {
     "data": {
      "image/png": "[encoded data removed]",
      "text/plain": [
       "<matplotlib.figure.Figure at 0xd5fa908>"
      ]
     },
     "metadata": {},
     "output_type": "display_data"
    }
   ],
   "source": [
    "a_max = 3                                # Maximum axis extent\n",
    "x_axes = [-a_max, a_max, nan, 0, 0]\n",
    "y_axes = [0, 0, nan, -a_max, a_max]\n",
    "plot(x_axes, y_axes, 'k-', linewidth=1)\n",
    "\n",
    "x_dog = [0, 2, 2, 2, 1, 0, 0]             # Repeat the first point at the end to close the figure\n",
    "y_dog = [0, 0, 1, 2, 1, 1, 0]\n",
    "plot(x_dog, y_dog, 'k-o', linewidth=3)\n",
    "\n",
    "axis('equal')\n",
    "axis('off')"
   ]
  },
  {
   "cell_type": "markdown",
   "metadata": {},
   "source": [
    "Note how we used `nan` (not-a-number) to draw the axes as two lines without separate lists.\n",
    "\n",
    "We'd like to see what hapens to the dog when its points are transformed by the following matrix\n",
    "\n",
    "$$\n",
    "\\mathbf{H} = \\begin{pmatrix} 1 & 0.5 \\\\ 0 & 1 \\end{pmatrix}.\n",
    "$$\n",
    "\n",
    "One way to apply a matrix transformation to all these points would be to create a NumPy matrix object for each point, multiply each one by $\\mathbf{H}$ and then construct lists of $x$ and $y$ points to pass to `plot()`, but there's an easier way.\n",
    "\n",
    "We can extend the rule we used to multiply a matrix and a vector to multiply two matrices like this:\n",
    "\n",
    "$$\n",
    "\\begin{pmatrix} a & b \\\\ c & d \\end{pmatrix}\n",
    "\\begin{pmatrix} x_1 & x_2 \\\\ y_1 & y_2 \\end{pmatrix}=\n",
    "\\begin{pmatrix} ax_1+by_1 & ax_2+by_2 \\\\ cx_1+dy_1 & cx_2+dy_2 \\end{pmatrix}.\n",
    "$$\n",
    "\n",
    "Notice that each column of the result is the result of treating the corresponding column of the second matrix on the left as a vector, and multiplying it by the first matrix on the left. So if we want to mupltiply a set of vectors by a single matrix we can 'glue' them together side by side in a matrix and mutiply that matrix instead of doing it one by one. Here's a matrix made up of the vectors for the points in the dog:\n",
    "\n",
    "$$\n",
    "\\mathbf{X} = \n",
    "\\begin{pmatrix} 0 & 2 & 2 & 2 & 1 & 0 \\\\ 0 & 0 & 1 & 2 & 1 & 1 \\end{pmatrix}\n",
    "$$\n",
    "\n",
    "The columns of $\\mathbf{HX}$ will then be $\\mathbf{Hx}_1$, $\\mathbf{Hx}_2$ etc. Although $\\mathbf{X}$ is a matrix it's one of the nouns, not one of the verbs; we won't be multiplying any vectors by $\\mathbf{X}$.\n",
    "\n",
    "First let's re-plot the dog using $\\mathbf{X}$."
   ]
  },
  {
   "cell_type": "code",
   "execution_count": 27,
   "metadata": {
    "collapsed": false
   },
   "outputs": [
    {
     "data": {
      "text/plain": [
       "(-3.0, 3.0, -3.0, 3.0)"
      ]
     },
     "execution_count": 27,
     "metadata": {},
     "output_type": "execute_result"
    },
    {
     "data": {
      "image/png": "[encoded data removed]",
      "text/plain": [
       "<matplotlib.figure.Figure at 0xce35710>"
      ]
     },
     "metadata": {},
     "output_type": "display_data"
    }
   ],
   "source": [
    "a_max = 3                                # Axis code repeated for convenience\n",
    "x_axes = [-a_max, a_max, nan, 0, 0]\n",
    "y_axes = [0, 0, nan, -a_max, a_max]\n",
    "plot(x_axes, y_axes, 'k-', linewidth=1)\n",
    "\n",
    "X = matrix([[0, 2, 2, 2, 1, 0, 0], [0, 0, 1, 2, 1, 1, 0]])\n",
    "plot(X[0, :], X[1,: ], 'k-o', linewidth=3)\n",
    "\n",
    "axis('equal')\n",
    "axis('off')"
   ]
  },
  {
   "cell_type": "markdown",
   "metadata": {},
   "source": [
    "The points are in the right place, but why has the line disappeared? The reason is that when `plot()` is called with two matrix objects (which are always two-dimensional) it plots points  according to the elements and connects points with lines accoridng to their columns. Each element of `X[0, :]` and `X[1, :]` is a separate column so no lines are drawn. If we'd constructed `X` with `array()` instead of `matrix()` then `X[0, :]` and `X[1, :]` would be one-dimensional and the lines would be drawn.\n",
    "\n",
    "To draw the lines using matrix objects we need to turn rows into columns. This is a standard mathematical operation so, for example\n",
    "\n",
    "$$\n",
    "\\mathbf{X}^T = \n",
    "\\begin{pmatrix}\n",
    "0 & 0\\\\\n",
    "2 & 0\\\\\n",
    "2 & 1\\\\\n",
    "2 & 2\\\\\n",
    "1 & 1\\\\\n",
    "0 & 1\\\\\n",
    "0 & 0\n",
    "\\end{pmatrix}\n",
    "$$\n",
    "\n",
    "Both matrix and array objects have a `transpose()` method and the abbreviation `.T` which we can use to modify our code like this:"
   ]
  },
  {
   "cell_type": "code",
   "execution_count": 26,
   "metadata": {
    "collapsed": false
   },
   "outputs": [
    {
     "data": {
      "text/plain": [
       "(-3.0, 3.0, -3.0, 3.0)"
      ]
     },
     "execution_count": 26,
     "metadata": {},
     "output_type": "execute_result"
    },
    {
     "data": {
      "image/png": "[encoded data removed]",
      "text/plain": [
       "<matplotlib.figure.Figure at 0xd5fa828>"
      ]
     },
     "metadata": {},
     "output_type": "display_data"
    }
   ],
   "source": [
    "a_max = 3                                # Axis code repeated for convenience\n",
    "x_axes = [-a_max, a_max, nan, 0, 0]\n",
    "y_axes = [0, 0, nan, -a_max, a_max]\n",
    "plot(x_axes, y_axes, 'k-', linewidth=1)\n",
    "\n",
    "X = matrix([[0, 2, 2, 2, 1, 0, 0], [0, 0, 1, 2, 1, 1, 0]])\n",
    "plot(X[0, :].T, X[1,: ].T, 'k-o', linewidth=3)\n",
    "\n",
    "axis('equal')\n",
    "axis('off')"
   ]
  },
  {
   "cell_type": "markdown",
   "metadata": {},
   "source": [
    "Now we can investigate the effect of matrix $\\mathbf{H} = \\begin{pmatrix} 1 & 0.5 \\\\ 0 & 1 \\end{pmatrix}$ on the dog."
   ]
  },
  {
   "cell_type": "code",
   "execution_count": 24,
   "metadata": {
    "collapsed": false
   },
   "outputs": [
    {
     "data": {
      "text/plain": [
       "(-3.0, 3.0, -3.0, 3.0)"
      ]
     },
     "execution_count": 24,
     "metadata": {},
     "output_type": "execute_result"
    },
    {
     "data": {
      "image/png": "[encoded data removed]",
      "text/plain": [
       "<matplotlib.figure.Figure at 0xdee2ba8>"
      ]
     },
     "metadata": {},
     "output_type": "display_data"
    }
   ],
   "source": [
    "a_max = 3                                \n",
    "x_axes = [-a_max, a_max, nan, 0, 0]\n",
    "y_axes = [0, 0, nan, -a_max, a_max]\n",
    "plot(x_axes, y_axes, 'k-', linewidth=1)\n",
    "\n",
    "X = matrix([[0, 2, 2, 2, 1, 0, 0], [0, 0, 1, 2, 1, 1, 0]])\n",
    "H = matrix([[1, 0.5], [0, 1]])\n",
    "\n",
    "HX = H*X\n",
    "plot(X[0, :].T, X[1,: ].T, 'k-o', linewidth=3)\n",
    "plot(HX[0, :].T, HX[1,: ].T, 'm-o', linewidth=3)\n",
    "\n",
    "axis('equal')\n",
    "axis('off')"
   ]
  },
  {
   "cell_type": "markdown",
   "metadata": {},
   "source": [
    "It subjects the dog to a *shear* transformation. Points on the $x$-axis stay where they are but other points move to the right in proportion to the size of their $y$-coordinate.\n",
    "\n",
    "Rather than keep repeating the code every time we want to investigate a different matrix we can define a function to do so."
   ]
  },
  {
   "cell_type": "code",
   "execution_count": 29,
   "metadata": {
    "collapsed": true
   },
   "outputs": [],
   "source": [
    "def dog(M, amax=3):\n",
    "    x_axes = [-a_max, a_max, nan, 0, 0]\n",
    "    y_axes = [0, 0, nan, -a_max, a_max]\n",
    "    plot(x_axes, y_axes, 'k-', linewidth=1)\n",
    "\n",
    "    X = matrix([[0, 2, 2, 2, 1, 0, 0], [0, 0, 1, 2, 1, 1, 0]])\n",
    "\n",
    "    MX = M*X\n",
    "    plot(X[0, :].T, X[1,: ].T, 'k-o', linewidth=3)\n",
    "    plot(MX[0, :].T, MX[1,: ].T, 'm-o', linewidth=3)\n",
    "\n",
    "    axis('equal')\n",
    "    axis('off')"
   ]
  },
  {
   "cell_type": "markdown",
   "metadata": {},
   "source": [
    "We'll test it with $\\mathbf{H}$."
   ]
  },
  {
   "cell_type": "code",
   "execution_count": 31,
   "metadata": {
    "collapsed": false
   },
   "outputs": [
    {
     "name": "stdout",
     "output_type": "stream",
     "text": [
      "[[ 1.   0.5]\n",
      " [ 0.   1. ]]\n"
     ]
    },
    {
     "data": {
      "image/png": "[encoded data removed]",
      "text/plain": [
       "<matplotlib.figure.Figure at 0xe422898>"
      ]
     },
     "metadata": {},
     "output_type": "display_data"
    }
   ],
   "source": [
    "print(H)\n",
    "dog(H)"
   ]
  },
  {
   "cell_type": "markdown",
   "metadata": {},
   "source": [
    "Let's try it with another matrix, $\\mathbf{F} = \\begin{pmatrix} 0 & -1 \\\\ -1 & 0 \\end{pmatrix}$."
   ]
  },
  {
   "cell_type": "code",
   "execution_count": 32,
   "metadata": {
    "collapsed": false
   },
   "outputs": [
    {
     "data": {
      "image/png": "[encoded data removed]",
      "text/plain": [
       "<matplotlib.figure.Figure at 0xd5facc0>"
      ]
     },
     "metadata": {},
     "output_type": "display_data"
    }
   ],
   "source": [
    "F = matrix([[0, -1], [-1, 0]])\n",
    "dog(F)"
   ]
  },
  {
   "cell_type": "markdown",
   "metadata": {},
   "source": [
    "The effect of $\\mathbf{F}$ has been to reflect points  in the line $y = -x$. Could we have predicted this without drawing it? If we apply $\\mathbf{F}$ to a vector corresponding to an arbitrary point in the $x$-$y$ plane we get\n",
    "\n",
    "$$\n",
    "\\mathbf{Fx} = \\begin{pmatrix} 0 & -1 \\\\ -1 & 0 \\end{pmatrix}\n",
    "\\begin{pmatrix} x \\\\ y \\end{pmatrix} =\n",
    "\\begin{pmatrix} -y \\\\ -x \\end{pmatrix},\n",
    "$$\n",
    "\n",
    "so $x$ goes to $-y$ and $y$ goes to $-x$.\n",
    "\n",
    "#### Exercises\n",
    "1. Find the matrix that reflects points in the line $x = y$ and use `dog()` to show that your answer is correct. Record your answer in a new markdown cell below and use $\\LaTeX$ to format it.\n",
    "2. Find the matrix that rotates points $180^\\circ$ about the origin. Check it and record your answer in the same way as the previous exercise."
   ]
  },
  {
   "cell_type": "markdown",
   "metadata": {},
   "source": [
    "## Linearity\n",
    "\n",
    "Before we go further we should apply a little scepticism to what we've done. We've only calculated where the discrete points went to, and then joined them up with straight lines, implicitly assuming that the image of every point on the line between two end-points  will move to a position on the line between the images of the end-points. In other words we've assumed that co-linear sets of points will remain co-linear. Looking at our dog transformed by $\\mathbf{H}$ or $\\mathbf{F}$ we can see that at least in these cases the three co-linear points on the right-hand edge of the dog  remained co-linear under these transformations. Would that still be true for those three points whatever matrix was used? \n",
    "\n",
    "#### Worked example\n",
    "\n",
    "Show that these three points remain co-linear under any matrix-induced transformation.\n",
    "\n",
    "#### Solution\n",
    "\n",
    "$$\n",
    "\\begin{pmatrix} a & b \\\\ c & d \\end{pmatrix}\n",
    "\\begin{pmatrix} 2 & 2 & 2 \\\\  0 & 1 & 2  \\end{pmatrix} =\n",
    "\\begin{pmatrix}  2 a & 2 a+b & 2 a+2 b \\\\ 2 c & 2 c+d & 2 c+2 d \\end{pmatrix}.\n",
    "$$\n",
    "\n",
    "Whatever the values of $a$, $b$, $c$ and $d$, the image of the middle point will be $b$ units further along the $x$-axis and $d$ units further along the $y$-axis than the image of the first point, and the same will be true of the the image of the last point relative to the middle one. So we can conclude that these three points, at least, will remain co-linear under any matrix transformation. \n",
    "\n",
    "#### Exercise\n",
    "1. Prove that any three co-linear points always remain co-linear when transformed by a matrix.\n",
    "2. Copy and modify the definition of `dog()` so that it doesn't put spots on the dog.\n",
    "3. Explain why we don't need spots any more.\n",
    "\n",
    "Record your answers in a cell below."
   ]
  },
  {
   "cell_type": "markdown",
   "metadata": {},
   "source": [
    "We may have established that all matrix-induced transformations preserve straight lines, but is the converse true? Can every transformation that preserves straight lines be induced by a matrix in the manner we've done here. The answer is no; moving every point one unit to the right will preserve straight lines but can't be caused by multiplying by a $2\\times 2$ matrix because that always leaves the origin unchanged, as you can easily prove.In fact, *affine* transformations that include a shift can be treated with *augmented* matrices, and you might like to think about how.\n",
    "\n"
   ]
  },
  {
   "cell_type": "markdown",
   "metadata": {},
   "source": [
    "## Summary\n",
    "[Use this cell to list everything you've learnt in this notebok]"
   ]
  },
  {
   "cell_type": "code",
   "execution_count": null,
   "metadata": {
    "collapsed": true
   },
   "outputs": [],
   "source": []
  }
 ],
 "metadata": {
  "kernelspec": {
   "display_name": "Python 2",
   "language": "python",
   "name": "python2"
  },
  "language_info": {
   "codemirror_mode": {
    "name": "ipython",
    "version": 2
   },
   "file_extension": ".py",
   "mimetype": "text/x-python",
   "name": "python",
   "nbconvert_exporter": "python",
   "pygments_lexer": "ipython2",
   "version": "2.7.10"
  }
 },
 "nbformat": 4,
 "nbformat_minor": 0
}
