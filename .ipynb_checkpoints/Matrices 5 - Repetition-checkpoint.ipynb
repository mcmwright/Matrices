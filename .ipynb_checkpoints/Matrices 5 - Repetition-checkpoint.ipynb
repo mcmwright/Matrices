{
 "cells": [
  {
   "cell_type": "markdown",
   "metadata": {},
   "source": [
    "# Repetition and rabbits\n",
    "\n",
    "M C M Wright, ISVR, University of Southampton"
   ]
  },
  {
   "cell_type": "code",
   "execution_count": 1,
   "metadata": {
    "collapsed": false
   },
   "outputs": [
    {
     "name": "stdout",
     "output_type": "stream",
     "text": [
      "Populating the interactive namespace from numpy and matplotlib\n"
     ]
    }
   ],
   "source": [
    "%pylab inline\n",
    "def dog(M, a_max=3, mycolour='m'):\n",
    "    x_axes = [-a_max, a_max, nan, 0, 0]\n",
    "    y_axes = [0, 0, nan, -a_max, a_max]\n",
    "    plot(x_axes, y_axes, 'k-', linewidth=1)\n",
    "\n",
    "    X = matrix([[0, 2, 2, 1, 0, 0], [0, 0, 2, 1, 1, 0]])\n",
    "\n",
    "    MX = M*X\n",
    "    plot(X[0, :].T, X[1,: ].T, 'k-', linewidth=3)\n",
    "    plot(MX[0, :].T, MX[1,: ].T, '-', linewidth=3, color=mycolour)\n",
    "\n",
    "    axis('equal')\n",
    "    axis('off')"
   ]
  },
  {
   "cell_type": "markdown",
   "metadata": {},
   "source": [
    "## Notebook overview\n",
    "In this notebook we introduce the eigendecomposition of matrices"
   ]
  },
  {
   "cell_type": "markdown",
   "metadata": {},
   "source": [
    "## Diagonal and other matrices\n",
    "\n",
    "Let's take another look at the action of $2\\times2$ matrices on points and figures in the plane.  The action of this matrix\n",
    "\n",
    "$$\n",
    "\\mathbf{D}=\n",
    "\\begin{pmatrix}\n",
    "1.1& 0 \\\\\n",
    "0 & 0.9\n",
    "\\end{pmatrix}\n",
    "$$\n",
    "\n",
    "on a figure should be easy to predict; it will stretch it a little in the $x$-direction and squash it a little in the $y$-direction. These two operations are independent; it wouldn't matter if they happened one at a time, in either order, and the quantities involved are entirely separate. Overall it will lose a little area each time, since $\\det\\mathbf{D}=0.99$. In fact we can deduce that the determinant of any diagonal matrix must be the product of the elements on its main diagonal. \n",
    "\n",
    "\n",
    "Let's see what happens when we repeatedly apply this matrix, and its inverse, to the dog."
   ]
  },
  {
   "cell_type": "code",
   "execution_count": 7,
   "metadata": {
    "collapsed": false
   },
   "outputs": [
    {
     "data": {
      "image/png": "[encoded data removed]",
      "text/plain": [
       "<matplotlib.figure.Figure at 0xae988d0>"
      ]
     },
     "metadata": {},
     "output_type": "display_data"
    }
   ],
   "source": [
    "D = matrix([[1.1, 0], [0, 0.9]])\n",
    "cols = ['k', 'r', 'yellow', 'orange', 'g']\n",
    "\n",
    "for i in arange(-4, 5):\n",
    "    dog(D**i, mycolour = cols[abs(i)])"
   ]
  },
  {
   "cell_type": "markdown",
   "metadata": {},
   "source": [
    "Because $\\mathbf{D}$ is diagonal it it's particular easy to invert it, or raise it to a power:\n",
    "\n",
    "$$\n",
    "\\mathbf{D}^n =\n",
    "\\begin{pmatrix}\n",
    "1.1^n& 0 \\\\\n",
    "0 & 0.9^n\n",
    "\\end{pmatrix},\\quad\n",
    "\\mathbf{D}^{-1} =\n",
    "\\begin{pmatrix}\n",
    "1/1.1& 0 \\\\\n",
    "0 & 1/0.9\n",
    "\\end{pmatrix},\n",
    "$$\n",
    "\n",
    "as  the effect on the $x$ and $y$ components is *decoupled*. In fact we could also raise it to a non-integer power this way, something we don't yet know how to do for a non-diagonal matrix."
   ]
  },
  {
   "cell_type": "markdown",
   "metadata": {},
   "source": [
    "That's not the case with\n",
    "\n",
    "$$\n",
    "\\mathbf{A}=\n",
    "\\begin{pmatrix}\n",
    "1.1& .1 \\\\\n",
    ".1 & 0.9\n",
    "\\end{pmatrix}\n",
    "$$\n",
    "\n",
    "but we can still plot the effect of applying $\\mathbf{A}^n$ to the dog for $n = -4, -3, \\ldots,3,4$."
   ]
  },
  {
   "cell_type": "code",
   "execution_count": 15,
   "metadata": {
    "collapsed": false
   },
   "outputs": [
    {
     "data": {
      "image/png": "[encoded data removed]",
      "text/plain": [
       "<matplotlib.figure.Figure at 0xb67c7b8>"
      ]
     },
     "metadata": {},
     "output_type": "display_data"
    }
   ],
   "source": [
    "A = matrix([[1.1, 0.1], [0.1, 0.9]])\n",
    "\n",
    "for i in arange(-4, 5):\n",
    "    dog(A**i, mycolour = cols[abs(i)])"
   ]
  },
  {
   "cell_type": "markdown",
   "metadata": {},
   "source": [
    "In both cases it appears that particular points on the dog are following curved trajectories as the mapping is repeatedly applied. This shouldn't surprise us, as we've already seen that matrices can induce rotations, and rotation implies motion on a curved path. We can make a matrix that induces an arbitrary rotation:\n",
    "\n",
    "$$\n",
    "\\mathbf{R}(\\theta)=\n",
    "\\begin{pmatrix}\n",
    "\\cos\\theta & -\\sin\\theta \\\\\n",
    "\\sin\\theta & cos\\theta\n",
    "\\end{pmatrix},\n",
    "$$\n",
    "\n",
    "and implement $\\mathbf{R}(\\pi/30)$ as before."
   ]
  },
  {
   "cell_type": "code",
   "execution_count": 16,
   "metadata": {
    "collapsed": false
   },
   "outputs": [
    {
     "data": {
      "image/png": "[encoded data removed]",
      "text/plain": [
       "<matplotlib.figure.Figure at 0xdb9ceb8>"
      ]
     },
     "metadata": {},
     "output_type": "display_data"
    }
   ],
   "source": [
    "def R(theta):\n",
    "    return matrix([[cos(theta), -sin(theta)], [sin(theta), cos(theta)]])\n",
    "\n",
    "for i in arange(-4, 5):\n",
    "    dog(R(pi/30)**i, mycolour = cols[abs(i)])"
   ]
  },
  {
   "cell_type": "markdown",
   "metadata": {},
   "source": [
    "As expected, each point on the dog follows a circular path. We can also observe that the left and right columns of $\\mathbf{R}(\\theta)$ are the co-ordinates of the images of the unit vectors in the $x$ and $y$ directions respectively. So if we wanted to rotate a pair of *orthogonal* vectors (vectors at right angles to one another) so that they lie along the axes we could make a rotation matrix from the vectors, normalized to unit length, rather than calculating the angle between them and the axes. **[needs impoving]**"
   ]
  },
  {
   "cell_type": "markdown",
   "metadata": {},
   "source": [
    "## Arrows\n",
    "\n",
    "It's easy to infer from the images of the dog under repeated application of $\\mathbf{R}(\\pi/30)$ what's happening to all the other points that don't happen to coincide with one of the dog's corners, but that's not so easy for $\\mathbf{D}$ or $\\mathbf{A}$. Another way of visualizing these three transformations is to take a lattice of points across the plane and draw an arrow from each lattice  point to its image under the matrix in question. This needs another function - make sure you understand how it works, consulting online help if necessary."
   ]
  },
  {
   "cell_type": "code",
   "execution_count": 77,
   "metadata": {
    "collapsed": true
   },
   "outputs": [],
   "source": [
    "def arrows(M, a_max=3, N_arrows=11):\n",
    "    x_axes = [-a_max, a_max, nan, 0, 0]\n",
    "    y_axes = [0, 0, nan, -a_max, a_max]\n",
    "    plot(x_axes, y_axes, 'k-', linewidth=1)\n",
    "\n",
    "    x, y = meshgrid(linspace(-a_max, a_max, N_arrows), \n",
    "                    linspace(-a_max, a_max, N_arrows))\n",
    "    X = matrix(vstack([x.ravel(), y.ravel()]))\n",
    "    dX = array(M*X -  X)\n",
    "    quiver(x, y, dX[0, :], dX[1, :], width=0.003, \n",
    "           angles='xy', scale_units='xy', scale=1, pivot='tail')\n",
    "    axis('equal')\n",
    "    axis('off')"
   ]
  },
  {
   "cell_type": "code",
   "execution_count": 80,
   "metadata": {
    "collapsed": false
   },
   "outputs": [
    {
     "data": {
      "image/png": "[encoded data removed]",
      "text/plain": [
       "<matplotlib.figure.Figure at 0xe852c18>"
      ]
     },
     "metadata": {},
     "output_type": "display_data"
    }
   ],
   "source": [
    "arrows(inv(A))"
   ]
  },
  {
   "cell_type": "code",
   "execution_count": 47,
   "metadata": {
    "collapsed": false
   },
   "outputs": [
    {
     "data": {
      "text/plain": [
       "numpy.ndarray"
      ]
     },
     "execution_count": 47,
     "metadata": {},
     "output_type": "execute_result"
    }
   ],
   "source": [
    "type(array(v))"
   ]
  },
  {
   "cell_type": "code",
   "execution_count": 46,
   "metadata": {
    "collapsed": false
   },
   "outputs": [
    {
     "data": {
      "text/plain": [
       "numpy.ndarray"
      ]
     },
     "execution_count": 46,
     "metadata": {},
     "output_type": "execute_result"
    }
   ],
   "source": [
    "type(y)"
   ]
  },
  {
   "cell_type": "code",
   "execution_count": 41,
   "metadata": {
    "collapsed": false
   },
   "outputs": [
    {
     "data": {
      "text/plain": [
       "array([[-3. , -2.4, -1.8, -1.2, -0.6,  0. ,  0.6,  1.2,  1.8,  2.4,  3. ],\n",
       "       [-3. , -2.4, -1.8, -1.2, -0.6,  0. ,  0.6,  1.2,  1.8,  2.4,  3. ],\n",
       "       [-3. , -2.4, -1.8, -1.2, -0.6,  0. ,  0.6,  1.2,  1.8,  2.4,  3. ],\n",
       "       [-3. , -2.4, -1.8, -1.2, -0.6,  0. ,  0.6,  1.2,  1.8,  2.4,  3. ],\n",
       "       [-3. , -2.4, -1.8, -1.2, -0.6,  0. ,  0.6,  1.2,  1.8,  2.4,  3. ],\n",
       "       [-3. , -2.4, -1.8, -1.2, -0.6,  0. ,  0.6,  1.2,  1.8,  2.4,  3. ],\n",
       "       [-3. , -2.4, -1.8, -1.2, -0.6,  0. ,  0.6,  1.2,  1.8,  2.4,  3. ],\n",
       "       [-3. , -2.4, -1.8, -1.2, -0.6,  0. ,  0.6,  1.2,  1.8,  2.4,  3. ],\n",
       "       [-3. , -2.4, -1.8, -1.2, -0.6,  0. ,  0.6,  1.2,  1.8,  2.4,  3. ],\n",
       "       [-3. , -2.4, -1.8, -1.2, -0.6,  0. ,  0.6,  1.2,  1.8,  2.4,  3. ],\n",
       "       [-3. , -2.4, -1.8, -1.2, -0.6,  0. ,  0.6,  1.2,  1.8,  2.4,  3. ]])"
      ]
     },
     "execution_count": 41,
     "metadata": {},
     "output_type": "execute_result"
    }
   ],
   "source": [
    "x"
   ]
  },
  {
   "cell_type": "code",
   "execution_count": 44,
   "metadata": {
    "collapsed": false
   },
   "outputs": [
    {
     "data": {
      "text/plain": [
       "matrix([[ -6.00000000e-01,  -5.40000000e-01,  -4.80000000e-01,\n",
       "          -4.20000000e-01,  -3.60000000e-01,  -3.00000000e-01,\n",
       "          -2.40000000e-01,  -1.80000000e-01,  -1.20000000e-01,\n",
       "          -6.00000000e-02,   0.00000000e+00],\n",
       "        [ -5.40000000e-01,  -4.80000000e-01,  -4.20000000e-01,\n",
       "          -3.60000000e-01,  -3.00000000e-01,  -2.40000000e-01,\n",
       "          -1.80000000e-01,  -1.20000000e-01,  -6.00000000e-02,\n",
       "           0.00000000e+00,   6.00000000e-02],\n",
       "        [ -4.80000000e-01,  -4.20000000e-01,  -3.60000000e-01,\n",
       "          -3.00000000e-01,  -2.40000000e-01,  -1.80000000e-01,\n",
       "          -1.20000000e-01,  -6.00000000e-02,   2.22044605e-16,\n",
       "           6.00000000e-02,   1.20000000e-01],\n",
       "        [ -4.20000000e-01,  -3.60000000e-01,  -3.00000000e-01,\n",
       "          -2.40000000e-01,  -1.80000000e-01,  -1.20000000e-01,\n",
       "          -6.00000000e-02,   0.00000000e+00,   6.00000000e-02,\n",
       "           1.20000000e-01,   1.80000000e-01],\n",
       "        [ -3.60000000e-01,  -3.00000000e-01,  -2.40000000e-01,\n",
       "          -1.80000000e-01,  -1.20000000e-01,  -6.00000000e-02,\n",
       "           0.00000000e+00,   6.00000000e-02,   1.20000000e-01,\n",
       "           1.80000000e-01,   2.40000000e-01],\n",
       "        [ -3.00000000e-01,  -2.40000000e-01,  -1.80000000e-01,\n",
       "          -1.20000000e-01,  -6.00000000e-02,   0.00000000e+00,\n",
       "           6.00000000e-02,   1.20000000e-01,   1.80000000e-01,\n",
       "           2.40000000e-01,   3.00000000e-01],\n",
       "        [ -2.40000000e-01,  -1.80000000e-01,  -1.20000000e-01,\n",
       "          -6.00000000e-02,  -1.11022302e-16,   6.00000000e-02,\n",
       "           1.20000000e-01,   1.80000000e-01,   2.40000000e-01,\n",
       "           3.00000000e-01,   3.60000000e-01],\n",
       "        [ -1.80000000e-01,  -1.20000000e-01,  -6.00000000e-02,\n",
       "           0.00000000e+00,   6.00000000e-02,   1.20000000e-01,\n",
       "           1.80000000e-01,   2.40000000e-01,   3.00000000e-01,\n",
       "           3.60000000e-01,   4.20000000e-01],\n",
       "        [ -1.20000000e-01,  -6.00000000e-02,  -2.22044605e-16,\n",
       "           6.00000000e-02,   1.20000000e-01,   1.80000000e-01,\n",
       "           2.40000000e-01,   3.00000000e-01,   3.60000000e-01,\n",
       "           4.20000000e-01,   4.80000000e-01],\n",
       "        [ -6.00000000e-02,  -4.44089210e-16,   6.00000000e-02,\n",
       "           1.20000000e-01,   1.80000000e-01,   2.40000000e-01,\n",
       "           3.00000000e-01,   3.60000000e-01,   4.20000000e-01,\n",
       "           4.80000000e-01,   5.40000000e-01],\n",
       "        [  0.00000000e+00,   6.00000000e-02,   1.20000000e-01,\n",
       "           1.80000000e-01,   2.40000000e-01,   3.00000000e-01,\n",
       "           3.60000000e-01,   4.20000000e-01,   4.80000000e-01,\n",
       "           5.40000000e-01,   6.00000000e-01]])"
      ]
     },
     "execution_count": 44,
     "metadata": {},
     "output_type": "execute_result"
    }
   ],
   "source": [
    "u"
   ]
  },
  {
   "cell_type": "code",
   "execution_count": null,
   "metadata": {
    "collapsed": true
   },
   "outputs": [],
   "source": []
  }
 ],
 "metadata": {
  "kernelspec": {
   "display_name": "Python 2",
   "language": "python",
   "name": "python2"
  },
  "language_info": {
   "codemirror_mode": {
    "name": "ipython",
    "version": 2
   },
   "file_extension": ".py",
   "mimetype": "text/x-python",
   "name": "python",
   "nbconvert_exporter": "python",
   "pygments_lexer": "ipython2",
   "version": "2.7.10"
  }
 },
 "nbformat": 4,
 "nbformat_minor": 0
}
